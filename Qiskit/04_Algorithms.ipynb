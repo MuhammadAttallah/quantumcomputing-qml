{
 "cells": [
  {
   "cell_type": "markdown",
   "id": "795c49c0",
   "metadata": {},
   "source": [
    "### Bernstein–Vazirani algorithm "
   ]
  },
  {
   "cell_type": "markdown",
   "id": "2cf4b0ad",
   "metadata": {},
   "source": [
    "#### Classical solution"
   ]
  },
  {
   "cell_type": "code",
   "execution_count": 9,
   "id": "e1d89531",
   "metadata": {},
   "outputs": [
    {
     "data": {
      "text/plain": [
       "1"
      ]
     },
     "execution_count": 9,
     "metadata": {},
     "output_type": "execute_result"
    }
   ],
   "source": [
    "# create classical oracle\n",
    "def classical_oracle(x, s):\n",
    "    res = 0\n",
    "    for i, j in enumerate(x):\n",
    "        res += j * s[i]  # dot product\n",
    "    return res % 2\n",
    "\n",
    "classical_oracle([0, 1, 0], [0, 1, 1])"
   ]
  },
  {
   "cell_type": "markdown",
   "id": "315c48d5",
   "metadata": {},
   "source": [
    "Now, let's use the oracle and probe each bt by using one-hot vectoor to find all values of s"
   ]
  },
  {
   "cell_type": "code",
   "execution_count": 10,
   "id": "067f5b9b",
   "metadata": {},
   "outputs": [
    {
     "name": "stdout",
     "output_type": "stream",
     "text": [
      "[0, 1, 1, 0, 1]\n"
     ]
    }
   ],
   "source": [
    "x = [0 for i in range(len(s))]\n",
    "decoded = [0 for i in range(len(s))]\n",
    "\n",
    "for i in range(len(s)):\n",
    "    # Generate the one-hot vector\n",
    "    x[i] = 1\n",
    "    # Apply oracle to find the ith decoded string\n",
    "    decoded[i] = classical_oracle(x, s)\n",
    "    # Set x vector back to zero state, one-hot vector has just 1 in its values\n",
    "    x[i] = 0\n",
    "\n",
    "    # Print the decoded string\n",
    "print(s)"
   ]
  },
  {
   "cell_type": "code",
   "execution_count": null,
   "id": "33f83378",
   "metadata": {},
   "outputs": [],
   "source": []
  }
 ],
 "metadata": {
  "kernelspec": {
   "display_name": "Qiskit (stable)",
   "language": "python",
   "name": "qiskit-stable"
  },
  "language_info": {
   "codemirror_mode": {
    "name": "ipython",
    "version": 3
   },
   "file_extension": ".py",
   "mimetype": "text/x-python",
   "name": "python",
   "nbconvert_exporter": "python",
   "pygments_lexer": "ipython3",
   "version": "3.9.10"
  }
 },
 "nbformat": 4,
 "nbformat_minor": 5
}

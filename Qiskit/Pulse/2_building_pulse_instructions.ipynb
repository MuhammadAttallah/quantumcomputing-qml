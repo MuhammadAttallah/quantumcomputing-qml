{
 "cells": [
  {
   "cell_type": "markdown",
   "id": "f1f5d040",
   "metadata": {},
   "source": [
    "#### Building Pulse Instructions\n",
    "\n",
    "Pulse programs, which are called `Schedule`s, describe **instruction sequences** for the control electronics.\n",
    "\n",
    "`Instruction`s available through Qiskit Pulse:\n",
    "  - [`Delay(duration: int, channel)`](#delay)\n",
    "  - [`Play(pulse, channel)`](#play)\n",
    "  - [`SetFrequency(frequency, channel)`](#frequency)\n",
    "  - [`ShiftPhase(phase, channel)`](#phase)\n",
    "  - [`Acquire(duration, channel, mem_slot, reg_slot)`](#acquire)\n",
    "  \n",
    "Each instruction type has its own set of operands. As you can see above, they each include at least one `Channel` to specify where the instruction will be applied.\n",
    "\n",
    "**Channels** are labels for signal lines from the control hardware to the quantum chip.\n",
    "\n",
    " - `DriveChannel`s are typically used for _driving_ single qubit rotations,\n",
    " - `ControlChannel`s are typically used for multi-qubit gates or additional drive lines for tunable qubits, \n",
    " - `MeasureChannel`s are specific to transmitting pulses which stimulate readout, and\n",
    " - `AcquireChannel`s are used to trigger digitizers which collect readout signals.\n",
    " \n",
    "`DriveChannel`s, `ControlChannel`s, and `MeasureChannel`s are all `PulseChannel`s; this means that they support _transmitting_ pulses, whereas the `AcquireChannel` is a receive channel only and cannot play waveforms.\n",
    "\n",
    "For the following examples, we will create one `DriveChannel` instance for each `Instruction` that accepts a `PulseChannel`. Channels take one integer `index` argument. Except for `ControlChannel`s, the index maps trivially to the qubit label."
   ]
  },
  {
   "cell_type": "code",
   "execution_count": 5,
   "id": "0d79ff20",
   "metadata": {},
   "outputs": [],
   "source": [
    "from qiskit.pulse import DriveChannel\n",
    "\n",
    "channel = DriveChannel(0) # lables the signal line driving the qubit labeled with index 0"
   ]
  },
  {
   "cell_type": "markdown",
   "id": "c4d709b6",
   "metadata": {},
   "source": [
    "#### Delay\n",
    "\n",
    "One of the simplest instructions we can build is `Delay`. This is a blocking instruction that tells the control electronics to output no signal on the given channel for the duration specified. It is useful for controlling the timing of other instructions.\n",
    "\n",
    "The duration here and elsewhere is in terms of the backend's cycle time (1 / sample rate), `dt`.\n",
    "\n",
    "To build a `Delay` instruction, we pass the duration and channel:"
   ]
  },
  {
   "cell_type": "code",
   "execution_count": 7,
   "id": "f38d6d6b",
   "metadata": {},
   "outputs": [],
   "source": [
    "from qiskit.pulse import Delay\n",
    "\n",
    "delay_5dt = Delay(5, channel)"
   ]
  },
  {
   "cell_type": "markdown",
   "id": "5d255da4",
   "metadata": {},
   "source": [
    "where `channel` can be any kind of channel, including `AcquireChannel`.\n",
    "\n",
    "That's all there is to it. This instruction, `delay_5dt`, is ready to be included in a `Schedule`. Any instruction appended after `delay_5dt` on the same channel will execute five timesteps later than it would have without this delay.\n",
    "\n",
    "\n",
    "#### Play\n",
    "\n",
    "The `Play` instruction is responsible for executing _pulses_. It's straightforward to build one:\n",
    "\n",
    "```\n",
    "play = Play(pulse, channel)\n",
    "```\n",
    "\n",
    "Let's clarify what the `pulse` argument is and explore a few different ways to build one.\n",
    "\n",
    "#### Pulses\n",
    "\n",
    "A `Pulse` specifies an arbitrary pulse _envelope_. The modulation frequency and phase of the output waveform are controlled by the `SetFrequency` and `ShiftPhase` instructions, which we will cover next.\n",
    "\n",
    "The image below may provide some intuition for why they are specified separately. Think of the pulses which describe their envelopes as input to an arbitrary waveform generator (AWG), a common lab instrument -- this is depicted in the left image. Notice the limited sample rate discritizes the signal. The signal produced by the AWG may be mixed with a continuous sine wave generator. The frequency of its output is controlled by instructions to the sine wave generator; see the middle image. Finally, the signal sent to the qubit is demonstrated by the right side of the image below.\n",
    "\n",
    "**Note**: The hardware may be implemented in other ways, but if we keep the instructions separate, we avoid losing explicit information, such as the value of the modulation frequency.\n",
    "\n",
    "![alt text](pulse_modulation.png \"Pulse modulation image\")\n",
    "\n",
    "There are many methods available to us for building up pulses. Our `library` within Qiskit Pulse contains helpful methods for building `Pulse`s. Let's take for example a simple Gaussian pulse -- a pulse with its envelope described by a sampled Gaussian function. We arbitrarily choose an amplitude of 1, standard deviation $\\sigma$ of 10, and 128 sample points.\n",
    "\n",
    "**Note**: The maximum amplitude allowed is `1.0`. Most systems also have additional constraints on the minimum and maximum number of samples allowed in a pulse."
   ]
  },
  {
   "cell_type": "code",
   "execution_count": 9,
   "id": "debac5d2",
   "metadata": {},
   "outputs": [
    {
     "name": "stdout",
     "output_type": "stream",
     "text": [
      "0.19.2\n"
     ]
    }
   ],
   "source": []
  },
  {
   "cell_type": "code",
   "execution_count": null,
   "id": "6c897001",
   "metadata": {},
   "outputs": [],
   "source": []
  }
 ],
 "metadata": {
  "kernelspec": {
   "display_name": "Qiskit (stable)",
   "language": "python",
   "name": "qiskit-stable"
  },
  "language_info": {
   "codemirror_mode": {
    "name": "ipython",
    "version": 3
   },
   "file_extension": ".py",
   "mimetype": "text/x-python",
   "name": "python",
   "nbconvert_exporter": "python",
   "pygments_lexer": "ipython3",
   "version": "3.9.10"
  }
 },
 "nbformat": 4,
 "nbformat_minor": 5
}

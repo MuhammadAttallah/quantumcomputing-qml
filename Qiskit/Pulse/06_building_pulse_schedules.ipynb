{
 "cells": [
  {
   "cell_type": "markdown",
   "id": "5c3d9c02",
   "metadata": {},
   "source": [
    "#### Getting Started \n",
    "We'll first get our basic dependencies set up and ready to go. Since we want to use real, noisy devices for our calibration experiments in this notebook, we need to load our IBMQ account and set the appropriate backend."
   ]
  },
  {
   "cell_type": "code",
   "execution_count": 19,
   "id": "20180ca4",
   "metadata": {},
   "outputs": [],
   "source": [
    "from qiskit.tools.jupyter import *"
   ]
  },
  {
   "cell_type": "code",
   "execution_count": 21,
   "id": "e597669c",
   "metadata": {},
   "outputs": [],
   "source": [
    "from qiskit import IBMQ\n",
    "\n",
    "#IBMQ.load_account()\n",
    "provider = IBMQ.get_provider(hub='ibm-q', group='open', project='main')\n",
    "backend = provider.get_backend('ibmq_armonk')"
   ]
  },
  {
   "cell_type": "markdown",
   "id": "b39e131e",
   "metadata": {},
   "source": [
    "We verify that the backend supports Pulse features by checking the backend configuration. The config provides us with general information about the structure of the backend setup."
   ]
  },
  {
   "cell_type": "code",
   "execution_count": 22,
   "id": "d01b29e0",
   "metadata": {},
   "outputs": [],
   "source": [
    "backend_config = backend.configuration()\n",
    "assert backend_config.open_pulse, \"Backend doesn't support Pulse\""
   ]
  },
  {
   "cell_type": "markdown",
   "id": "6d243f15",
   "metadata": {},
   "source": [
    "#### Building Pulse Schedules\n",
    "\n",
    "Pulse programs, which are called `Schedule`s, describe instruction sequences for the control electronics. We build `Schedule`s using the Pulse Builder. It's easy to initialize a schedule:"
   ]
  },
  {
   "cell_type": "code",
   "execution_count": 1,
   "id": "41991325",
   "metadata": {},
   "outputs": [
    {
     "data": {
      "text/plain": [
       "ScheduleBlock(, name=\"my_example\", transform=AlignLeft())"
      ]
     },
     "execution_count": 1,
     "metadata": {},
     "output_type": "execute_result"
    }
   ],
   "source": [
    "from qiskit import pulse\n",
    "\n",
    "with pulse.build(name=\"my_example\") as my_program:\n",
    "    # Add instructions here\n",
    "    pass\n",
    "my_program"
   ]
  },
  {
   "cell_type": "markdown",
   "id": "039643cd",
   "metadata": {},
   "source": [
    "You can see that there are no instructions yet. The next section of this page will explain each of the instructions you might add to a schedule, and the last section will describe various _alignment contexts_, which determine how instructions are placed in time relative to one another."
   ]
  },
  {
   "cell_type": "markdown",
   "id": "a6bc0c8d",
   "metadata": {},
   "source": [
    "#### `Schedule` Instructions\n",
    "\n",
    " - [`delay(duration, channel)`](#delay)\n",
    " - [`play(pulse, channel)`](#play)\n",
    " - [`set_frequency(frequency, channel)`](#frequency)\n",
    " - [`shift_phase(phase, channel)`](#phase)\n",
    " - [`acquire(duration, channel, mem_slot, reg_slot)`](#acquire)\n",
    "\n",
    "Each instruction type has its own set of operands. As you can see above, they each include at least one `Channel` to specify where the instruction will be applied.\n",
    "\n",
    "**Channels** are labels for signal lines from the control hardware to the quantum chip.\n",
    "\n",
    " - `DriveChannel`s are typically used for _driving_ single qubit rotations,\n",
    " - `ControlChannel`s are typically used for multi-qubit gates or additional drive lines for tunable qubits, \n",
    " - `MeasureChannel`s are specific to transmitting pulses which stimulate readout, and\n",
    " - `AcquireChannel`s are used to trigger digitizers which collect readout signals.\n",
    " \n",
    "`DriveChannel`s, `ControlChannel`s, and `MeasureChannel`s are all `PulseChannel`s; this means that they support _transmitting_ pulses, whereas the `AcquireChannel` is a receive channel only and cannot play waveforms.\n",
    "\n",
    "For the following examples, we will create one `DriveChannel` instance for each `Instruction` that accepts a `PulseChannel`. Channels take one integer `index` argument. Except for `ControlChannel`s, the index maps trivially to the qubit label."
   ]
  },
  {
   "cell_type": "code",
   "execution_count": 24,
   "id": "3b6eb9a9",
   "metadata": {},
   "outputs": [],
   "source": [
    "from qiskit.pulse import DriveChannel\n",
    "\n",
    "channel = DriveChannel(0)"
   ]
  },
  {
   "cell_type": "markdown",
   "id": "d09a0bfc",
   "metadata": {},
   "source": [
    "The pulse `Schedule` is independent of the backend it runs on. However, we can build our program in a context that is aware of the target backend by supplying it to `pulse.build`. When possible you should supply a backend. By using the channel accessors `pulse.<type>_channel(<idx>)` we can make sure we are only using available device resources."
   ]
  },
  {
   "cell_type": "code",
   "execution_count": 29,
   "id": "60ecab6b",
   "metadata": {},
   "outputs": [
    {
     "ename": "BackendConfigurationError",
     "evalue": "'Invalid index for 5-qubit system.'",
     "output_type": "error",
     "traceback": [
      "\u001b[1;31m---------------------------------------------------------------------------\u001b[0m",
      "\u001b[1;31mBackendConfigurationError\u001b[0m                 Traceback (most recent call last)",
      "Input \u001b[1;32mIn [29]\u001b[0m, in \u001b[0;36m<cell line: 6>\u001b[1;34m()\u001b[0m\n\u001b[0;32m      3\u001b[0m backend \u001b[38;5;241m=\u001b[39m FakeValencia()\n\u001b[0;32m      6\u001b[0m \u001b[38;5;28;01mwith\u001b[39;00m pulse\u001b[38;5;241m.\u001b[39mbuild(backend\u001b[38;5;241m=\u001b[39mbackend, name\u001b[38;5;241m=\u001b[39m\u001b[38;5;124m\"\u001b[39m\u001b[38;5;124mbackend_aware\u001b[39m\u001b[38;5;124m\"\u001b[39m) \u001b[38;5;28;01mas\u001b[39;00m backend_aware_program:\n\u001b[1;32m----> 7\u001b[0m     channel \u001b[38;5;241m=\u001b[39m \u001b[43mpulse\u001b[49m\u001b[38;5;241;43m.\u001b[39;49m\u001b[43mdrive_channel\u001b[49m\u001b[43m(\u001b[49m\u001b[38;5;241;43m5\u001b[39;49m\u001b[43m)\u001b[49m\n",
      "File \u001b[1;32m~\\anaconda3\\envs\\qiskit-stable\\lib\\site-packages\\qiskit\\pulse\\builder.py:1604\u001b[0m, in \u001b[0;36mdrive_channel\u001b[1;34m(qubit)\u001b[0m\n\u001b[0;32m   1587\u001b[0m \u001b[38;5;28;01mdef\u001b[39;00m \u001b[38;5;21mdrive_channel\u001b[39m(qubit: \u001b[38;5;28mint\u001b[39m) \u001b[38;5;241m-\u001b[39m\u001b[38;5;241m>\u001b[39m chans\u001b[38;5;241m.\u001b[39mDriveChannel:\n\u001b[0;32m   1588\u001b[0m     \u001b[38;5;124;03m\"\"\"Return ``DriveChannel`` for ``qubit`` on the active builder backend.\u001b[39;00m\n\u001b[0;32m   1589\u001b[0m \n\u001b[0;32m   1590\u001b[0m \u001b[38;5;124;03m    Examples:\u001b[39;00m\n\u001b[1;32m   (...)\u001b[0m\n\u001b[0;32m   1602\u001b[0m \u001b[38;5;124;03m    .. note:: Requires the active builder context to have a backend set.\u001b[39;00m\n\u001b[0;32m   1603\u001b[0m \u001b[38;5;124;03m    \"\"\"\u001b[39;00m\n\u001b[1;32m-> 1604\u001b[0m     \u001b[38;5;28;01mreturn\u001b[39;00m \u001b[43mactive_backend\u001b[49m\u001b[43m(\u001b[49m\u001b[43m)\u001b[49m\u001b[38;5;241;43m.\u001b[39;49m\u001b[43mconfiguration\u001b[49m\u001b[43m(\u001b[49m\u001b[43m)\u001b[49m\u001b[38;5;241;43m.\u001b[39;49m\u001b[43mdrive\u001b[49m\u001b[43m(\u001b[49m\u001b[43mqubit\u001b[49m\u001b[43m)\u001b[49m\n",
      "File \u001b[1;32m~\\anaconda3\\envs\\qiskit-stable\\lib\\site-packages\\qiskit\\providers\\models\\backendconfiguration.py:805\u001b[0m, in \u001b[0;36mPulseBackendConfiguration.drive\u001b[1;34m(self, qubit)\u001b[0m\n\u001b[0;32m    795\u001b[0m \u001b[38;5;124;03m\"\"\"\u001b[39;00m\n\u001b[0;32m    796\u001b[0m \u001b[38;5;124;03mReturn the drive channel for the given qubit.\u001b[39;00m\n\u001b[0;32m    797\u001b[0m \n\u001b[1;32m   (...)\u001b[0m\n\u001b[0;32m    802\u001b[0m \u001b[38;5;124;03m    Qubit drive channel.\u001b[39;00m\n\u001b[0;32m    803\u001b[0m \u001b[38;5;124;03m\"\"\"\u001b[39;00m\n\u001b[0;32m    804\u001b[0m \u001b[38;5;28;01mif\u001b[39;00m \u001b[38;5;129;01mnot\u001b[39;00m \u001b[38;5;241m0\u001b[39m \u001b[38;5;241m<\u001b[39m\u001b[38;5;241m=\u001b[39m qubit \u001b[38;5;241m<\u001b[39m \u001b[38;5;28mself\u001b[39m\u001b[38;5;241m.\u001b[39mn_qubits:\n\u001b[1;32m--> 805\u001b[0m     \u001b[38;5;28;01mraise\u001b[39;00m BackendConfigurationError(\u001b[38;5;124mf\u001b[39m\u001b[38;5;124m\"\u001b[39m\u001b[38;5;124mInvalid index for \u001b[39m\u001b[38;5;132;01m{\u001b[39;00mqubit\u001b[38;5;132;01m}\u001b[39;00m\u001b[38;5;124m-qubit system.\u001b[39m\u001b[38;5;124m\"\u001b[39m)\n\u001b[0;32m    806\u001b[0m \u001b[38;5;28;01mreturn\u001b[39;00m DriveChannel(qubit)\n",
      "\u001b[1;31mBackendConfigurationError\u001b[0m: 'Invalid index for 5-qubit system.'"
     ]
    }
   ],
   "source": [
    "from qiskit.test.mock import FakeValencia\n",
    "\n",
    "backend = FakeValencia()\n",
    "\n",
    "\n",
    "with pulse.build(backend=backend, name=\"backend_aware\") as backend_aware_program:\n",
    "    channel = pulse.drive_channel(5)\n",
    "    #print(pulse.num_qubits())"
   ]
  },
  {
   "cell_type": "code",
   "execution_count": null,
   "id": "7361bccd",
   "metadata": {},
   "outputs": [],
   "source": []
  }
 ],
 "metadata": {
  "kernelspec": {
   "display_name": "Qiskit (stable)",
   "language": "python",
   "name": "qiskit-stable"
  },
  "language_info": {
   "codemirror_mode": {
    "name": "ipython",
    "version": 3
   },
   "file_extension": ".py",
   "mimetype": "text/x-python",
   "name": "python",
   "nbconvert_exporter": "python",
   "pygments_lexer": "ipython3",
   "version": "3.9.10"
  }
 },
 "nbformat": 4,
 "nbformat_minor": 5
}

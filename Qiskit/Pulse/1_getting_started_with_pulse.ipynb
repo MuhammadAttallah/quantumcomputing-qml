{
 "cells": [
  {
   "cell_type": "code",
   "execution_count": 1,
   "id": "e777cc08",
   "metadata": {},
   "outputs": [
    {
     "data": {
      "text/html": [
       "<h3>Version Information</h3><table><tr><th>Qiskit Software</th><th>Version</th></tr><tr><td><code>qiskit-terra</code></td><td>0.19.2</td></tr><tr><td><code>qiskit-aer</code></td><td>0.10.3</td></tr><tr><td><code>qiskit-ignis</code></td><td>0.7.0</td></tr><tr><td><code>qiskit-ibmq-provider</code></td><td>0.18.3</td></tr><tr><td><code>qiskit</code></td><td>0.34.2</td></tr><tr><th>System information</th></tr><tr><td>Python version</td><td>3.9.10</td></tr><tr><td>Python compiler</td><td>MSC v.1929 64 bit (AMD64)</td></tr><tr><td>Python build</td><td>main, Feb  1 2022 21:21:54</td></tr><tr><td>OS</td><td>Windows</td></tr><tr><td>CPUs</td><td>6</td></tr><tr><td>Memory (Gb)</td><td>15.767276763916016</td></tr><tr><td colspan='2'>Thu Mar 17 10:55:35 2022 Egypt Standard Time</td></tr></table>"
      ],
      "text/plain": [
       "<IPython.core.display.HTML object>"
      ]
     },
     "metadata": {},
     "output_type": "display_data"
    }
   ],
   "source": [
    "import qiskit.tools.jupyter\n",
    "%qiskit_version_table"
   ]
  },
  {
   "cell_type": "code",
   "execution_count": 19,
   "id": "9d981827",
   "metadata": {},
   "outputs": [
    {
     "data": {
      "text/plain": [
       "[<AccountProvider for IBMQ(hub='ibm-q', group='open', project='main')>]"
      ]
     },
     "execution_count": 19,
     "metadata": {},
     "output_type": "execute_result"
    }
   ],
   "source": [
    "from qiskit import IBMQ\n",
    "\n",
    "# IBMQ.save_account(TOKEN)\n",
    "IBMQ.load_account() # Load account from disk\n",
    "IBMQ.providers()    # List all available providers"
   ]
  },
  {
   "cell_type": "markdown",
   "id": "b477adf6",
   "metadata": {},
   "source": [
    "### Getting started with OpenPulse\n",
    "\n",
    "- Build and execute a very basic Pulse program, which is called a schedule."
   ]
  },
  {
   "cell_type": "markdown",
   "id": "7ceebbcf",
   "metadata": {},
   "source": [
    "#### Initialize"
   ]
  },
  {
   "cell_type": "code",
   "execution_count": 20,
   "id": "8f7e4eed",
   "metadata": {},
   "outputs": [],
   "source": [
    "# importing the Schedule class from the qiskit.pulse module\n",
    "# initialize a Schedule with the name \"getting_started\"\n",
    "\n",
    "from qiskit.pulse import Schedule\n",
    "\n",
    "sched = Schedule(name=\"getting_started\") # empty schedule"
   ]
  },
  {
   "cell_type": "markdown",
   "id": "3b60e0f9",
   "metadata": {},
   "source": [
    "#### Build instructions\n",
    "* Add some instructions to our schedule.\n",
    "\n",
    "`SamplePulse` is the most central instruction for building schedules, It is a pulse signal specified as an array of time-ordered complex amplitudes(samples). Each sample is played for one cycle, a timestep `dt` determined by the backend.\n",
    "If we want to know the real-time dynamics of our program, we need to know the value of `dt`."
   ]
  },
  {
   "cell_type": "code",
   "execution_count": 21,
   "id": "0f3d498b",
   "metadata": {},
   "outputs": [
    {
     "ename": "ImportError",
     "evalue": "cannot import name 'SamplePulse' from 'qiskit.pulse' (C:\\Users\\muham\\anaconda3\\envs\\qiskit-stable\\lib\\site-packages\\qiskit\\pulse\\__init__.py)",
     "output_type": "error",
     "traceback": [
      "\u001b[1;31m---------------------------------------------------------------------------\u001b[0m",
      "\u001b[1;31mImportError\u001b[0m                               Traceback (most recent call last)",
      "Input \u001b[1;32mIn [21]\u001b[0m, in \u001b[0;36m<cell line: 1>\u001b[1;34m()\u001b[0m\n\u001b[1;32m----> 1\u001b[0m \u001b[38;5;28;01mfrom\u001b[39;00m \u001b[38;5;21;01mqiskit\u001b[39;00m\u001b[38;5;21;01m.\u001b[39;00m\u001b[38;5;21;01mpulse\u001b[39;00m \u001b[38;5;28;01mimport\u001b[39;00m SamplePulse\n\u001b[0;32m      3\u001b[0m my_pulse \u001b[38;5;241m=\u001b[39m SamplePulse([\u001b[38;5;241m0.00043\u001b[39m, \u001b[38;5;241m0.0007\u001b[39m , \u001b[38;5;241m0.00112\u001b[39m, \u001b[38;5;241m0.00175\u001b[39m, \u001b[38;5;241m0.00272\u001b[39m, \u001b[38;5;241m0.00414\u001b[39m, \u001b[38;5;241m0.00622\u001b[39m,\n\u001b[0;32m      4\u001b[0m                         \u001b[38;5;241m0.00919\u001b[39m, \u001b[38;5;241m0.01337\u001b[39m, \u001b[38;5;241m0.01916\u001b[39m, \u001b[38;5;241m0.02702\u001b[39m, \u001b[38;5;241m0.03751\u001b[39m, \u001b[38;5;241m0.05127\u001b[39m, \u001b[38;5;241m0.06899\u001b[39m,\n\u001b[0;32m      5\u001b[0m                         \u001b[38;5;241m0.09139\u001b[39m, \u001b[38;5;241m0.1192\u001b[39m , \u001b[38;5;241m0.15306\u001b[39m, \u001b[38;5;241m0.19348\u001b[39m, \u001b[38;5;241m0.24079\u001b[39m, \u001b[38;5;241m0.29502\u001b[39m, \u001b[38;5;241m0.35587\u001b[39m,\n\u001b[1;32m   (...)\u001b[0m\n\u001b[0;32m     12\u001b[0m                         \u001b[38;5;241m0.00043\u001b[39m],\n\u001b[0;32m     13\u001b[0m                        name\u001b[38;5;241m=\u001b[39m\u001b[38;5;124m\"\u001b[39m\u001b[38;5;124mshort_gaussian_pulse\u001b[39m\u001b[38;5;124m\"\u001b[39m)\n",
      "\u001b[1;31mImportError\u001b[0m: cannot import name 'SamplePulse' from 'qiskit.pulse' (C:\\Users\\muham\\anaconda3\\envs\\qiskit-stable\\lib\\site-packages\\qiskit\\pulse\\__init__.py)"
     ]
    }
   ],
   "source": [
    "from qiskit.pulse import SamplePulse\n",
    "\n",
    "my_pulse = SamplePulse([0.00043, 0.0007 , 0.00112, 0.00175, 0.00272, 0.00414, 0.00622,\n",
    "                        0.00919, 0.01337, 0.01916, 0.02702, 0.03751, 0.05127, 0.06899,\n",
    "                        0.09139, 0.1192 , 0.15306, 0.19348, 0.24079, 0.29502, 0.35587,\n",
    "                        0.4226 , 0.49407, 0.56867, 0.64439, 0.71887, 0.78952, 0.85368,\n",
    "                        0.90873, 0.95234, 0.98258, 0.99805, 0.99805, 0.98258, 0.95234,\n",
    "                        0.90873, 0.85368, 0.78952, 0.71887, 0.64439, 0.56867, 0.49407,\n",
    "                        0.4226 , 0.35587, 0.29502, 0.24079, 0.19348, 0.15306, 0.1192 ,\n",
    "                        0.09139, 0.06899, 0.05127, 0.03751, 0.02702, 0.01916, 0.01337,\n",
    "                        0.00919, 0.00622, 0.00414, 0.00272, 0.00175, 0.00112, 0.0007 ,\n",
    "                        0.00043],\n",
    "                       name=\"short_gaussian_pulse\")"
   ]
  },
  {
   "cell_type": "markdown",
   "id": "15802348",
   "metadata": {},
   "source": [
    "we've simply passed the exact amplitudes of the pulse envelope we want to play as an array. The array above is a Gaussian function evaluated at 64 points, with an amplitude of 1 and a standard deviation of 8. The (zero-indexed) $i^{th}$ sample will play from time `i*dt` up to `(i + 1)*dt`, modulated by the qubit frequency. Think of this like an arbitrary waveform generator (AWG), playing the samples you give to the `SamplePulse`, mixed with a continuous sine wave generator outputting a tone at the qubit frequency.\n",
    "\n",
    "The values above happen to be real, but they can also be complex. The amplitude norm of any pulse signal is arbitrarily limited to 1. Each backend system may also impose further constraints -- for instance, a minimum pulse size of 64."
   ]
  },
  {
   "cell_type": "markdown",
   "id": "a4340c97",
   "metadata": {},
   "source": [
    "#### Schedule instructions\n",
    "Next, we have to add an instruction to execute the pulse signal we just built. This means specifying not only the time that the pulse should be played, but also where it should be played. When we build circuits, we specify which qubit a gate operation should be applied to. In Pulse, every qubit has multiple channels.\n",
    "\n",
    "We will play our pulse on the drive channel of qubit 0. The drive channel lets us enact single qubit operations."
   ]
  },
  {
   "cell_type": "code",
   "execution_count": 15,
   "id": "e5f6efaf",
   "metadata": {},
   "outputs": [
    {
     "ename": "NameError",
     "evalue": "name 'my_pulse' is not defined",
     "output_type": "error",
     "traceback": [
      "\u001b[1;31m---------------------------------------------------------------------------\u001b[0m",
      "\u001b[1;31mNameError\u001b[0m                                 Traceback (most recent call last)",
      "Input \u001b[1;32mIn [15]\u001b[0m, in \u001b[0;36m<cell line: 4>\u001b[1;34m()\u001b[0m\n\u001b[0;32m      1\u001b[0m \u001b[38;5;28;01mfrom\u001b[39;00m \u001b[38;5;21;01mqiskit\u001b[39;00m\u001b[38;5;21;01m.\u001b[39;00m\u001b[38;5;21;01mpulse\u001b[39;00m \u001b[38;5;28;01mimport\u001b[39;00m Play, DriveChannel\n\u001b[0;32m      3\u001b[0m qubit_index \u001b[38;5;241m=\u001b[39m \u001b[38;5;241m0\u001b[39m\n\u001b[1;32m----> 4\u001b[0m sched \u001b[38;5;241m=\u001b[39m sched\u001b[38;5;241m.\u001b[39minsert(\u001b[38;5;241m0\u001b[39m, Play(\u001b[43mmy_pulse\u001b[49m, DriveChannel(qubit_index)))\n",
      "\u001b[1;31mNameError\u001b[0m: name 'my_pulse' is not defined"
     ]
    }
   ],
   "source": [
    "from qiskit.pulse import Play, DriveChannel\n",
    "\n",
    "qubit_index = 0\n",
    "sched = sched.insert(0, Play(my_pulse, DriveChannel(qubit_index)))"
   ]
  },
  {
   "cell_type": "markdown",
   "id": "3105327b",
   "metadata": {},
   "source": [
    "Note that the pulse we defined operates on the `DriveChannel`, which in turn is initialized with the qubit index. We use `Schedule.insert` to play the pulse at timestep `t = 0`. \n",
    "\n",
    "Let's review what we've done, using `Schedule.draw`: "
   ]
  },
  {
   "cell_type": "code",
   "execution_count": 17,
   "id": "69e7c1a5",
   "metadata": {},
   "outputs": [
    {
     "ename": "TypeError",
     "evalue": "draw() got an unexpected keyword argument 'label'",
     "output_type": "error",
     "traceback": [
      "\u001b[1;31m---------------------------------------------------------------------------\u001b[0m",
      "\u001b[1;31mTypeError\u001b[0m                                 Traceback (most recent call last)",
      "Input \u001b[1;32mIn [17]\u001b[0m, in \u001b[0;36m<cell line: 1>\u001b[1;34m()\u001b[0m\n\u001b[1;32m----> 1\u001b[0m \u001b[43msched\u001b[49m\u001b[38;5;241;43m.\u001b[39;49m\u001b[43mdraw\u001b[49m\u001b[43m(\u001b[49m\u001b[43mlabel\u001b[49m\u001b[38;5;241;43m=\u001b[39;49m\u001b[38;5;28;43;01mTrue\u001b[39;49;00m\u001b[43m,\u001b[49m\u001b[43m \u001b[49m\u001b[43mscaling\u001b[49m\u001b[38;5;241;43m=\u001b[39;49m\u001b[38;5;241;43m0.5\u001b[39;49m\u001b[43m)\u001b[49m\n",
      "File \u001b[1;32m~\\anaconda3\\envs\\qiskit-stable\\lib\\site-packages\\qiskit\\pulse\\schedule.py:1419\u001b[0m, in \u001b[0;36m_common_method.<locals>.decorator.<locals>.wrapper\u001b[1;34m(*args, **kwargs)\u001b[0m\n\u001b[0;32m   1417\u001b[0m \u001b[38;5;129m@functools\u001b[39m\u001b[38;5;241m.\u001b[39mwraps(method)\n\u001b[0;32m   1418\u001b[0m \u001b[38;5;28;01mdef\u001b[39;00m \u001b[38;5;21mwrapper\u001b[39m(\u001b[38;5;241m*\u001b[39margs, \u001b[38;5;241m*\u001b[39m\u001b[38;5;241m*\u001b[39mkwargs):\n\u001b[1;32m-> 1419\u001b[0m     \u001b[38;5;28;01mreturn\u001b[39;00m method(\u001b[38;5;241m*\u001b[39margs, \u001b[38;5;241m*\u001b[39m\u001b[38;5;241m*\u001b[39mkwargs)\n",
      "\u001b[1;31mTypeError\u001b[0m: draw() got an unexpected keyword argument 'label'"
     ]
    }
   ],
   "source": [
    "sched.draw(label=True, scaling=0.5)"
   ]
  },
  {
   "cell_type": "markdown",
   "id": "3e415b19",
   "metadata": {},
   "source": [
    "This pulse will drive qubit 0. It is modulated at qubit 0's resonant frequency, so it will drive the $|0\\rangle$ to $|1\\rangle$ transition. It is not calibrated to stop at a particular state, so we won't know what state we've prepared until we look at the results. For our purposes, we don't mind what state we end up in.\n",
    "\n",
    "All that's left to do is to add a measurement. There is a convenient utility function for adding measurements, but it requires data from the backend system that the program will be running on. We will also need the backend to execute the program.\n",
    "\n",
    "#### Grab a backend   "
   ]
  },
  {
   "cell_type": "code",
   "execution_count": 22,
   "id": "cfcb1541",
   "metadata": {},
   "outputs": [],
   "source": [
    "from qiskit.test.mock import FakeAlmaden\n",
    "\n",
    "backend = FakeAlmaden()"
   ]
  },
  {
   "cell_type": "markdown",
   "id": "ae88483d",
   "metadata": {},
   "source": [
    "#### Add measurements\n",
    "\n",
    "Now we can use this backend to add the measurement instructions for us."
   ]
  },
  {
   "cell_type": "code",
   "execution_count": 23,
   "id": "8f09dd60",
   "metadata": {},
   "outputs": [
    {
     "name": "stderr",
     "output_type": "stream",
     "text": [
      "C:\\Users\\muham\\AppData\\Local\\Temp\\ipykernel_9104\\1203883437.py:3: DeprecationWarning: \"measure_all\" has been moved to \"qiskit.pulse.macros\"\n",
      "  sched = sched.insert(sched.duration, measure_all(backend))\n"
     ]
    }
   ],
   "source": [
    "from qiskit.scheduler import measure_all\n",
    "\n",
    "sched = sched.insert(sched.duration, measure_all(backend))"
   ]
  },
  {
   "cell_type": "markdown",
   "id": "a5081c57",
   "metadata": {},
   "source": [
    "Let's see what the convenience function has added for us, using draw again. The acquisition and measurement pulses are very long compared to our initial pulse, so we can use the `plot_range` argument to clip the schedule."
   ]
  },
  {
   "cell_type": "code",
   "execution_count": null,
   "id": "0c47661a",
   "metadata": {},
   "outputs": [],
   "source": []
  }
 ],
 "metadata": {
  "kernelspec": {
   "display_name": "Qiskit (stable)",
   "language": "python",
   "name": "qiskit-stable"
  },
  "language_info": {
   "codemirror_mode": {
    "name": "ipython",
    "version": 3
   },
   "file_extension": ".py",
   "mimetype": "text/x-python",
   "name": "python",
   "nbconvert_exporter": "python",
   "pygments_lexer": "ipython3",
   "version": "3.9.10"
  }
 },
 "nbformat": 4,
 "nbformat_minor": 5
}

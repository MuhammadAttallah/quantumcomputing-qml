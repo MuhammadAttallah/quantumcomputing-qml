{
 "cells": [
  {
   "cell_type": "markdown",
   "id": "a7ff73b4",
   "metadata": {},
   "source": [
    "### Single Qubit Gates"
   ]
  },
  {
   "cell_type": "code",
   "execution_count": 1,
   "id": "62a68ce4",
   "metadata": {},
   "outputs": [],
   "source": [
    "import qiskit"
   ]
  },
  {
   "cell_type": "code",
   "execution_count": 2,
   "id": "611a3702",
   "metadata": {},
   "outputs": [],
   "source": [
    "simulator = qiskit.Aer.get_backend(\"aer_simulator\")"
   ]
  },
  {
   "cell_type": "markdown",
   "id": "6cf268ca",
   "metadata": {},
   "source": [
    "#### X-Gate"
   ]
  },
  {
   "cell_type": "code",
   "execution_count": 6,
   "id": "be7336d1",
   "metadata": {},
   "outputs": [
    {
     "data": {
      "image/png": "[encoded data removed]",
      "text/plain": [
       "<Figure size 357.679x144.48 with 1 Axes>"
      ]
     },
     "execution_count": 6,
     "metadata": {},
     "output_type": "execute_result"
    }
   ],
   "source": [
    "circ = qiskit.QuantumCircuit(1)\n",
    "\n",
    "initial_state = [1, 0] # |0> - zero state\n",
    "circ.initialize(initial_state, 0)\n",
    "\n",
    "circ.x(0)  # x gate\n",
    "\n",
    "circ.measure_all()\n",
    "circ.draw(\"mpl\")"
   ]
  },
  {
   "cell_type": "code",
   "execution_count": 7,
   "id": "1757b94e",
   "metadata": {},
   "outputs": [
    {
     "data": {
      "text/plain": [
       "{'1': 1024}"
      ]
     },
     "execution_count": 7,
     "metadata": {},
     "output_type": "execute_result"
    }
   ],
   "source": [
    "# testing\n",
    "circ = qiskit.transpile(circ, simulator)\n",
    "result = simulator.run(circ).result()\n",
    "counts = result.get_counts(circ)\n",
    "counts"
   ]
  },
  {
   "cell_type": "markdown",
   "id": "f16e3cd5",
   "metadata": {},
   "source": [
    "#### Z-Gate"
   ]
  },
  {
   "cell_type": "code",
   "execution_count": 9,
   "id": "ff99f516",
   "metadata": {},
   "outputs": [
    {
     "data": {
      "image/png": "[encoded data removed]",
      "text/plain": [
       "<Figure size 357.679x144.48 with 1 Axes>"
      ]
     },
     "execution_count": 9,
     "metadata": {},
     "output_type": "execute_result"
    }
   ],
   "source": [
    "circ = qiskit.QuantumCircuit(1)\n",
    "\n",
    "initial_state = [1, 0] # |0> - zero state\n",
    "circ.initialize(initial_state, 0)\n",
    "\n",
    "circ.z(0)  # z gate\n",
    "\n",
    "circ.measure_all()\n",
    "circ.draw(\"mpl\")"
   ]
  },
  {
   "cell_type": "code",
   "execution_count": 10,
   "id": "4dcffed8",
   "metadata": {},
   "outputs": [
    {
     "data": {
      "text/plain": [
       "{'0': 1024}"
      ]
     },
     "execution_count": 10,
     "metadata": {},
     "output_type": "execute_result"
    }
   ],
   "source": [
    "# testing\n",
    "circ = qiskit.transpile(circ, simulator)\n",
    "result = simulator.run(circ).result()\n",
    "counts = result.get_counts(circ)\n",
    "counts"
   ]
  },
  {
   "cell_type": "markdown",
   "id": "8fa306ca",
   "metadata": {},
   "source": [
    "#### Hadamard H-Gate"
   ]
  },
  {
   "cell_type": "code",
   "execution_count": 11,
   "id": "9822c559",
   "metadata": {},
   "outputs": [
    {
     "data": {
      "image/png": "[encoded data removed]",
      "text/plain": [
       "<Figure size 357.679x144.48 with 1 Axes>"
      ]
     },
     "execution_count": 11,
     "metadata": {},
     "output_type": "execute_result"
    }
   ],
   "source": [
    "circ = qiskit.QuantumCircuit(1)\n",
    "\n",
    "initial_state = [1, 0] # |0> - zero state\n",
    "circ.initialize(initial_state, 0)\n",
    "\n",
    "circ.h(0)  # hadamard gate\n",
    "\n",
    "circ.measure_all()\n",
    "circ.draw(\"mpl\")"
   ]
  },
  {
   "cell_type": "code",
   "execution_count": 12,
   "id": "18619e79",
   "metadata": {},
   "outputs": [
    {
     "data": {
      "text/plain": [
       "{'1': 519, '0': 505}"
      ]
     },
     "execution_count": 12,
     "metadata": {},
     "output_type": "execute_result"
    }
   ],
   "source": [
    "# testing - |+> state\n",
    "circ = qiskit.transpile(circ, simulator)\n",
    "result = simulator.run(circ).result()\n",
    "counts = result.get_counts(circ)\n",
    "counts"
   ]
  },
  {
   "cell_type": "code",
   "execution_count": null,
   "id": "e2ff17ef",
   "metadata": {},
   "outputs": [],
   "source": []
  }
 ],
 "metadata": {
  "kernelspec": {
   "display_name": "Qiskit (stable)",
   "language": "python",
   "name": "qiskit-stable"
  },
  "language_info": {
   "codemirror_mode": {
    "name": "ipython",
    "version": 3
   },
   "file_extension": ".py",
   "mimetype": "text/x-python",
   "name": "python",
   "nbconvert_exporter": "python",
   "pygments_lexer": "ipython3",
   "version": "3.9.10"
  }
 },
 "nbformat": 4,
 "nbformat_minor": 5
}
